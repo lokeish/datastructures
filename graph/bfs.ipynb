{
 "cells": [
  {
   "cell_type": "markdown",
   "metadata": {},
   "source": [
    "![image](files/bfs_example.png)"
   ]
  },
  {
   "cell_type": "markdown",
   "metadata": {},
   "source": [
    "### BFS Concept\n",
    "1. In bfs you take a random node at initial step.\n",
    "2. From that node you start exploration of vertexes, for example initial we are at node 1 , from there you explore 5,4,2. The exploration can be in any order.\n",
    "3. Once Exploration is completed from the current node then move forward with the next node. \n",
    "4. Stop the exploration once all the vertices are visted."
   ]
  },
  {
   "cell_type": "markdown",
   "metadata": {},
   "source": []
  },
  {
   "cell_type": "markdown",
   "metadata": {},
   "source": [
    "``` \n",
    "# seudo code\n",
    "\n",
    "queue = list()\n",
    "\n",
    "Graph = [(1,5), (1,4), (1,2), (2,7), (2,6), (2,3)]\n",
    "\n",
    "# bfs\n",
    "# start with any random node will start with 4\n",
    "queue.append(4)\n",
    "while len(queue) != 0:\n",
    "    v = queue.pop(0)\n",
    "    visited[v] = True\n",
    "\n",
    "    for all neighbours in Graph(v):\n",
    "        if visited[neighbour] is False:\n",
    "            queue.append(neighbout) \n",
    "```"
   ]
  },
  {
   "cell_type": "markdown",
   "metadata": {},
   "source": [
    "![image](files/example1.jpeg)"
   ]
  },
  {
   "cell_type": "markdown",
   "metadata": {},
   "source": []
  },
  {
   "cell_type": "code",
   "execution_count": 19,
   "metadata": {},
   "outputs": [
    {
     "name": "stdout",
     "output_type": "stream",
     "text": [
      "Current Queue ['5']\n",
      "visiting 5\n",
      "Neighbours of current node ['3', '7']\n",
      "Current Queue ['3', '7']\n",
      "visiting 3\n",
      "Neighbours of current node ['2', '4']\n",
      "Current Queue ['7', '2', '4']\n",
      "visiting 7\n",
      "Neighbours of current node ['8']\n",
      "Current Queue ['2', '4', '8']\n",
      "visiting 2\n",
      "Neighbours of current node []\n",
      "Current Queue ['4', '8']\n",
      "visiting 4\n",
      "Neighbours of current node ['8']\n",
      "Current Queue ['8']\n",
      "visiting 8\n",
      "Neighbours of current node []\n"
     ]
    }
   ],
   "source": [
    "graph = {\n",
    "  '5' : ['3','7'],\n",
    "  '3' : ['2', '4'],\n",
    "  '7' : ['8'],\n",
    "  '2' : [],\n",
    "  '4' : ['8'],\n",
    "  '8' : []\n",
    "}\n",
    "\n",
    "visited = []\n",
    "queue = []\n",
    "\n",
    "queue.append('5')\n",
    "visited.append('5')\n",
    "\n",
    "while len(queue) != 0:\n",
    "    print(\"Current Queue\", queue)\n",
    "    v = queue.pop(0)\n",
    "  \n",
    "    print(\"visiting\", v)\n",
    "    visited.append(v)\n",
    "    # get the neighbours\n",
    "    print(\"Neighbours of current node\", graph[v])\n",
    "    for neighbour in graph[v]:\n",
    "        if neighbour not in visited and neighbour not in queue:\n",
    "            queue.append(neighbour)\n"
   ]
  },
  {
   "cell_type": "code",
   "execution_count": null,
   "metadata": {},
   "outputs": [],
   "source": []
  }
 ],
 "metadata": {
  "kernelspec": {
   "display_name": "Python 3",
   "language": "python",
   "name": "python3"
  },
  "language_info": {
   "codemirror_mode": {
    "name": "ipython",
    "version": 3
   },
   "file_extension": ".py",
   "mimetype": "text/x-python",
   "name": "python",
   "nbconvert_exporter": "python",
   "pygments_lexer": "ipython3",
   "version": "3.12.3"
  }
 },
 "nbformat": 4,
 "nbformat_minor": 2
}
